{
 "cells": [
  {
   "cell_type": "markdown",
   "id": "b32436bb",
   "metadata": {},
   "source": [
    "## Задание 1."
   ]
  },
  {
   "cell_type": "code",
   "execution_count": 1,
   "id": "b42dbde4",
   "metadata": {},
   "outputs": [],
   "source": [
    "import requests\n",
    "import json\n",
    "\n",
    "params = {'q': 'name', 'id': '69846294'}"
   ]
  },
  {
   "cell_type": "code",
   "execution_count": 11,
   "id": "8f1acbf8",
   "metadata": {},
   "outputs": [],
   "source": [
    "url = 'https://api.github.com'"
   ]
  },
  {
   "cell_type": "code",
   "execution_count": 12,
   "id": "be493797",
   "metadata": {},
   "outputs": [],
   "source": [
    "user = 'Arrie21'"
   ]
  },
  {
   "cell_type": "code",
   "execution_count": 13,
   "id": "08d71cf6",
   "metadata": {},
   "outputs": [],
   "source": [
    "response = requests.get(f'{url}/users/{user}/repos')"
   ]
  },
  {
   "cell_type": "code",
   "execution_count": 14,
   "id": "a10bc242",
   "metadata": {},
   "outputs": [],
   "source": [
    "with open('data.json', 'w') as f:\n",
    "    json.dump(response.json(), f)"
   ]
  },
  {
   "cell_type": "code",
   "execution_count": 15,
   "id": "29e808a9",
   "metadata": {},
   "outputs": [
    {
     "name": "stdout",
     "output_type": "stream",
     "text": [
      "Arrie21/DataCollection\n",
      "Arrie21/LinAlg\n",
      "Arrie21/MathStatistics\n",
      "Arrie21/Python_for_DataScience\n"
     ]
    }
   ],
   "source": [
    "for i in response.json():\n",
    "    print(i['full_name'])"
   ]
  },
  {
   "cell_type": "markdown",
   "id": "ab06f1af",
   "metadata": {},
   "source": [
    "## Задание 2."
   ]
  },
  {
   "cell_type": "code",
   "execution_count": null,
   "id": "17f08597",
   "metadata": {},
   "outputs": [],
   "source": [
    "import requests\n",
    "import json\n",
    "\n",
    "app_id = 'arie_en'\n",
    "vk_version = '5.124'\n",
    "auth_url = f'https://oauth.vk.com/authorize?client_id={app_id}&display=page&redirect_uri=https://oauth.vk.com/blank.html&scope=friends&response_type=token&v={vk_version}';"
   ]
  },
  {
   "cell_type": "code",
   "execution_count": null,
   "id": "f7fe3bdc",
   "metadata": {},
   "outputs": [],
   "source": [
    "print(f'Перейдите по ссылке:\\n{auth_url}\\nи получите токен доступа.')\n",
    "access_token = input('\\nВведите токен доступа: ')"
   ]
  },
  {
   "cell_type": "code",
   "execution_count": null,
   "id": "820fc4c7",
   "metadata": {},
   "outputs": [],
   "source": [
    "response = requests.get(f'https://api.vk.com/method/groups.get?extended=1&access_token={access_token}&v={vk_version}')\n",
    "response_json = response.json()\n",
    "with open('task02_response.json', 'w') as file:\n",
    "    json.dump(response_json, file)\n",
    "\n",
    "print('\\nСписок сообществ, на которые вы подписаны')\n",
    "for group in response_json['response']['items']:\n",
    "    print(f\"{group['name']}\")"
   ]
  }
 ],
 "metadata": {
  "kernelspec": {
   "display_name": "Python 3 (ipykernel)",
   "language": "python",
   "name": "python3"
  },
  "language_info": {
   "codemirror_mode": {
    "name": "ipython",
    "version": 3
   },
   "file_extension": ".py",
   "mimetype": "text/x-python",
   "name": "python",
   "nbconvert_exporter": "python",
   "pygments_lexer": "ipython3",
   "version": "3.9.13"
  }
 },
 "nbformat": 4,
 "nbformat_minor": 5
}
